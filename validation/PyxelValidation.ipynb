{
 "cells": [
  {
   "cell_type": "markdown",
   "id": "848fd6eb",
   "metadata": {},
   "source": [
    "# Validation of Pyxel's CCD effects for MARVEL\n",
    "\n",
    "The following values are from the STA-1600 CCD model.  \n",
    "\n",
    "- Area: $10.3 \\times 10.3$k 9-µm pixels ($95\\times95$ mm image area) \n",
    "\n",
    "$\\textbf{Two read modes exist:}$\n",
    "\n",
    "Both modes uses a output amplifier sensitivity of 7 $\\mu$V/e:\n",
    "\n",
    "Fast readout (50 kHz):                                                       \n",
    "- Readout noise: 2 e-                                                                            \n",
    "- Gain: 65.8 $\\mu$V/DN $\\rightarrow$ 15198 DN/V $\\rightarrow$ 9.4 e/DN                                                                        \n",
    "                                                                             \n",
    "Slow readout (1 MHz):                                                                            \n",
    "- Readout noise: 5 e-                                                                             \n",
    "- Gain: 21.9 $\\mu$V/DN $\\rightarrow$ 45662 DN/V $\\rightarrow$ 3.0 e/DN"
   ]
  },
  {
   "cell_type": "code",
   "execution_count": 16,
   "id": "731cedb1",
   "metadata": {},
   "outputs": [
    {
     "name": "stdout",
     "output_type": "stream",
     "text": [
      "Pyxel     v. 1.3.2\n",
      "PyEchelle v. 0.3.2\n"
     ]
    }
   ],
   "source": [
    "import os\n",
    "import yaml\n",
    "import shutil\n",
    "import pyxel\n",
    "import pyechelle\n",
    "import numpy as np\n",
    "from astropy.io import fits \n",
    "\n",
    "# Random number generator and fixed seed to reproduce results\n",
    "rng = np.random.default_rng(12345)\n",
    "\n",
    "# Print version\n",
    "print(f\"Pyxel     v. {pyxel.__version__}\")\n",
    "print(f\"PyEchelle v. {pyechelle.__version__}\")"
   ]
  },
  {
   "cell_type": "markdown",
   "id": "6434651a",
   "metadata": {},
   "source": [
    "---"
   ]
  },
  {
   "cell_type": "markdown",
   "id": "880c2fbf",
   "metadata": {},
   "source": [
    "## Configure Pyxel for MARVELsim\n",
    "\n",
    "We will in the following only use the exposure mode of Pyxel and load in PyEchelle images with pixel units in electron flux\n",
    "\n",
    "A small comment on the exposure time parsed to Pyxel. Setting a longer exposure time should always result in a larger count. We can imagine the image we provide as flux. By default it will be interpreted as flux per 1s (the time scale). If we overwrite the time scale in the model to say 10s, it will be the flux per 10s, so the count will decrease if we leave the exposure time the same. This way it is possible load an image with a known exposure time and have a correct flux.\n",
    "\n",
    "**Exposure time and time scale**\n",
    "\n",
    "Setting a longer exposure time should always result in a larger count. We can imagine the image we provide as flux. By default it will be interpreted as flux per 1 second (the time scale). If we overwrite the time scale in the model to 10 s, it will be the flux per 10 s, so the count will decrease if we leave the exposure time the same. This way you can load an image with a known exposure time for example and have a correct flux."
   ]
  },
  {
   "cell_type": "markdown",
   "id": "569656c1",
   "metadata": {},
   "source": [
    "### Output path\n",
    "\n",
    "Unfortunately Pyxel do not have any clever way to secure that the output folder is set through the attributes. This means we need to open the YAML file ourself and correct the filepath to where we want our simulations to be stored. Notice that the following is already secured while running MARVELsim while parsing `-o </path/to/outdir>`. The following is a validation of the code:"
   ]
  },
  {
   "cell_type": "code",
   "execution_count": 15,
   "id": "c1442861",
   "metadata": {},
   "outputs": [],
   "source": [
    "# File paths to input and output YAML file\n",
    "ifile = os.getcwd() + \"/../../inputfiles/inputfile_marvel.yaml\"\n",
    "ofile = os.getcwd() + \"/output/inputfile_marvel.yaml\" \n",
    "\n",
    "# First copy YAML to avoid overwriting the original file\n",
    "shutil.copy2(ifile, ofile)\n",
    "\n",
    "# Load the data within the YAML file\n",
    "stream = open(ofile, 'r')\n",
    "data   = yaml.full_load(stream)\n",
    "\n",
    "# Alter the output file location\n",
    "data['exposure']['outputs']['output_folder'] = \"output\"\n",
    "\n",
    "# Overwrite YAML file\n",
    "with open(ofile, 'w') as yaml_file:\n",
    "    yaml_file.write( yaml.dump(data, default_flow_style=False))"
   ]
  },
  {
   "cell_type": "markdown",
   "id": "f62ed6fd",
   "metadata": {},
   "source": [
    "### Initialise Pyxel"
   ]
  },
  {
   "cell_type": "code",
   "execution_count": 3,
   "id": "e808785b",
   "metadata": {},
   "outputs": [],
   "source": [
    "# Load the MARVEL input YAML file\n",
    "config = pyxel.load(ifile)\n",
    "\n",
    "# Setup configurations\n",
    "exposure = config.exposure\n",
    "detector = config.ccd_detector\n",
    "pipeline = config.pipeline"
   ]
  },
  {
   "cell_type": "markdown",
   "id": "bb2b9f9d",
   "metadata": {},
   "source": [
    "### CCD parameters\n",
    "\n",
    "We here set all the parameters needed for the `detector object` reflecting the MARVEL CCD properties. Notice this is only for illustration on how to do this since this parameter space is already configured in the input YAML file."
   ]
  },
  {
   "cell_type": "code",
   "execution_count": 4,
   "id": "7572da35",
   "metadata": {},
   "outputs": [],
   "source": [
    "# Quantum efficientcy\n",
    "detector.characteristics.quantum_efficiency = 0.9\n",
    "\n",
    "# Amplifier readout sensitivity [V/e-]\n",
    "detector.characteristics.charge_to_volt_conversion = 7.0e-6\n",
    "\n",
    "# Gain of output amplifier [V/V] -> User defined!\n",
    "detector.characteristics.pre_amplification = 12\n",
    "\n",
    "# Bit resolution [bits]\n",
    "detector.characteristics.adc_bit_resolution = 16\n",
    "\n",
    "# Output DC Level [V]\n",
    "detector.characteristics.adc_voltage_range = [0., 16]\n",
    "\n",
    "# Full-well capacity [e-]\n",
    "detector.characteristics.full_well_capacity = 800000"
   ]
  },
  {
   "cell_type": "code",
   "execution_count": 6,
   "id": "33c69b6d",
   "metadata": {},
   "outputs": [],
   "source": [
    "# Load a zeros array\n",
    "pipeline.charge_generation.load_charge.arguments.filename = 'wave_0001.fits'\n",
    "pipeline.charge_generation.load_charge.arguments.time_scale = 5\n",
    "exposure.readout.times = [5]\n",
    "\n",
    "# Configure dark rate\n",
    "pipeline.charge_generation.simple_dark_current.arguments.dark_rate = 0.01\n",
    "\n",
    "# Disable CosmiX\n",
    "pipeline.photon_generation.cosmix.enabled = True"
   ]
  },
  {
   "cell_type": "code",
   "execution_count": 20,
   "id": "644ac6e1",
   "metadata": {},
   "outputs": [],
   "source": [
    "pipeline.photon_generation.cosmix.arguments.spectrum_file  = os.getcwd() + '/../../inputfiles/proton_L2_solarMax_11mm_Shielding.txt'"
   ]
  },
  {
   "cell_type": "code",
   "execution_count": 22,
   "id": "a0287fc9",
   "metadata": {},
   "outputs": [
    {
     "data": {
      "text/plain": [
       "'/lhome/nicholas/software/marvelsim/examples/validationOfPyxel/../../inputfiles/proton_L2_solarMax_11mm_Shielding.txt'"
      ]
     },
     "execution_count": 22,
     "metadata": {},
     "output_type": "execute_result"
    }
   ],
   "source": [
    "pipeline.photon_generation.cosmix.arguments.spectrum_file"
   ]
  },
  {
   "cell_type": "code",
   "execution_count": null,
   "id": "a72f7e36",
   "metadata": {},
   "outputs": [],
   "source": [
    "# Run simulations and plot\n",
    "results = pyxel.exposure_mode(exposure, detector, pipeline)\n",
    "#pyxel.display_detector(detector)"
   ]
  },
  {
   "cell_type": "markdown",
   "id": "683185ee",
   "metadata": {},
   "source": [
    "### Bias image\n",
    "\n",
    "Currently (Marts 2022) Pyxel do not have an option to automatically determine the bias level given the CCD parameters stated within the class `ccd_detector`. For now we use PyEchelle's CCD flags called `--bias <VALUE>` to include the bias level and additionally `--read_noise <VALUE>` to add a random noise realization of the readout.     \n",
    "\n",
    "If we assume that the bias level to be 1000 ADU, this transform fast-readout bias level of 9400 e- and a slow-readout bias level of 3000 e-. The RMS readout noise is:\n",
    "\n",
    "- Fast readout RMS noise: 2.5 e- (nominal) and 4.0 e- (maximum)  \n",
    "- Slow readout RMS noise: 5.0 e- (nominal) and 7.0 e- (maximum)  \n",
    "\n",
    "Thus the bias can be constructed normal distributed image with a mean of the bias level and a standard deviation comparable to the RMS noise level. The RMS and standard deviation are identical when we talk about the residual noise since the mean has been subtracted. "
   ]
  },
  {
   "cell_type": "code",
   "execution_count": null,
   "id": "5bd5ef1a",
   "metadata": {},
   "outputs": [],
   "source": [
    "bias = rng.normal(3000, scale=5.0, size=(500,500)).astype(int)  \n",
    "\n",
    "# Save above bias images\n",
    "hdul = fits.HDUList([fits.PrimaryHDU(bias)])\n",
    "hdul.writeto('bias_slow.fits', overwrite=True)\n",
    "\n",
    "bias"
   ]
  },
  {
   "cell_type": "code",
   "execution_count": null,
   "id": "699c91de",
   "metadata": {},
   "outputs": [],
   "source": [
    "# Load a bias image\n",
    "pipeline.charge_generation.load_charge.arguments.filename = 'bias_slow.fits'\n",
    "pipeline.charge_generation.load_charge.arguments.time_scale = 1\n",
    "exposure.readout.times = [1]\n",
    "\n",
    "# Disable cosmix to\n",
    "pipeline.photon_generation.cosmix.enabled = False\n",
    "\n",
    "# Run simulations and plot (select Array = \"image\")\n",
    "results = pyxel.exposure_mode(exposure, detector, pipeline)\n",
    "pyxel.display_detector(detector)"
   ]
  },
  {
   "cell_type": "code",
   "execution_count": null,
   "id": "be5facae",
   "metadata": {},
   "outputs": [],
   "source": [
    "bias = rng.normal(9400, scale=2.5, size=(500,500)).astype(int)  \n",
    "\n",
    "# Save above bias images\n",
    "hdul = fits.HDUList([fits.PrimaryHDU(bias)])\n",
    "hdul.writeto('bias_fast.fits', overwrite=True)\n",
    "\n",
    "bias"
   ]
  },
  {
   "cell_type": "code",
   "execution_count": null,
   "id": "92915eca",
   "metadata": {},
   "outputs": [],
   "source": [
    "# Load a bias image\n",
    "pipeline.charge_generation.load_charge.arguments.filename = 'bias_fast.fits'\n",
    "pipeline.charge_generation.load_charge.arguments.time_scale = 1\n",
    "exposure.readout.times = [1]\n",
    "\n",
    "# Disable cosmix to\n",
    "pipeline.photon_generation.cosmix.enabled = False\n",
    "\n",
    "# Run simulations and plot (select Array = \"image\")\n",
    "results = pyxel.exposure_mode(exposure, detector, pipeline)\n",
    "pyxel.display_detector(detector)"
   ]
  },
  {
   "cell_type": "markdown",
   "id": "13061502",
   "metadata": {},
   "source": [
    "### Dark current image\n",
    "\n",
    "Dark Signal output signal is caused by thermally generated electrons. Dark signal is a linear function of integration time and an exponential function of chip temperature. We here assume a constant CCD chip temperature of 200 K (specified in the input YAML file). For the given CCD the dark current is:\n",
    "\n",
    "- Nom. : 3.0 e/pix/hour @ -100C\n",
    "- Max. : 5.0 e/pix/hour @ -100C\n",
    "\n"
   ]
  },
  {
   "cell_type": "code",
   "execution_count": null,
   "id": "aa20a7dc",
   "metadata": {},
   "outputs": [],
   "source": [
    "# Create a 500 x 500 pixel array of zeros\n",
    "zero = np.zeros((500,500))\n",
    "\n",
    "# Save above bias image\n",
    "hdul = fits.HDUList([fits.PrimaryHDU(zero)])\n",
    "hdul.writeto('zeros.fits', overwrite=True)\n",
    "\n",
    "zero"
   ]
  },
  {
   "cell_type": "code",
   "execution_count": null,
   "id": "fe53bc08",
   "metadata": {},
   "outputs": [],
   "source": [
    "# Load a zeros array\n",
    "pipeline.charge_generation.load_charge.arguments.filename = 'zeros.fits'\n",
    "pipeline.charge_generation.load_charge.arguments.time_scale = 900\n",
    "exposure.readout.times = [900]\n",
    "\n",
    "# Configure dark rate\n",
    "pipeline.charge_generation.simple_dark_current.arguments.dark_rate = 0.01\n",
    "\n",
    "# Exclude cosmic rays to visualize dark current\n",
    "pipeline.photon_generation.cosmix.enabled = False\n",
    "\n",
    "# Run simulations and plot\n",
    "results = pyxel.exposure_mode(exposure, detector, pipeline)\n",
    "pyxel.display_detector(detector)"
   ]
  },
  {
   "cell_type": "markdown",
   "id": "27243e91",
   "metadata": {},
   "source": [
    "### Flat-field spectrum"
   ]
  },
  {
   "cell_type": "code",
   "execution_count": null,
   "id": "98b5f53a",
   "metadata": {
    "scrolled": true
   },
   "outputs": [],
   "source": [
    "# Load a zeros array\n",
    "pipeline.charge_generation.load_charge.arguments.filename = 'flat_pyechelle_5s.fits'\n",
    "pipeline.charge_generation.load_charge.arguments.time_scale = 5\n",
    "exposure.readout.times = [5]\n",
    "\n",
    "# Configure dark rate\n",
    "pipeline.charge_generation.simple_dark_current.arguments.dark_rate = 0.01\n",
    "\n",
    "# Disable CosmiX\n",
    "pipeline.photon_generation.cosmix.enabled = False\n",
    " \n",
    "# Run simulations and plot\n",
    "results = pyxel.exposure_mode(exposure, detector, pipeline)\n",
    "pyxel.display_detector(detector)"
   ]
  },
  {
   "cell_type": "markdown",
   "id": "8d24a1e5",
   "metadata": {},
   "source": [
    "### Science spectrum"
   ]
  },
  {
   "cell_type": "code",
   "execution_count": null,
   "id": "632f8140",
   "metadata": {},
   "outputs": [],
   "source": [
    "# Load a zeros array\n",
    "pipeline.charge_generation.load_charge.arguments.filename = 'science_300s.fits'\n",
    "pipeline.charge_generation.load_charge.arguments.time_scale = 300\n",
    "exposure.readout.times = [300]\n",
    "\n",
    "# Configure dark rate\n",
    "pipeline.charge_generation.simple_dark_current.arguments.dark_rate = 0.01 \n",
    "\n",
    "# Disable cosmix\n",
    "pipeline.photon_generation.cosmix.enabled = False\n",
    " \n",
    "# Run simulations and plot\n",
    "results = pyxel.exposure_mode(exposure, detector, pipeline)\n",
    "pyxel.display_detector(detector)"
   ]
  },
  {
   "cell_type": "markdown",
   "id": "78109264",
   "metadata": {},
   "source": [
    "### Cosmic rays\n",
    "\n",
    "We use the inbuild CosmiX simulator to generate cosmic rays. This simulator uses a cosmic ray model with energy desposite and trails lengths provided from a dataset of protons penetrating a spacecraft shilded in a L2 orbit around solar maximum. Since the space environment is typically much more severe w.r.t. to the energy of cosmics, this model is a worst case example for our MARVEL simulations.\n",
    "\n",
    "We use numpy's in-built Poisson random number generator to get the number of particles per second. The Poisson distribution is defined by \n",
    "\n",
    "$$ f(k;\\lambda) = \\frac{\\lambda^k e^{-\\lambda}}{k!} $$\n",
    "\n",
    "For events with an expected separation $\\lambda$ the Poisson distribution $ f(k;\\lambda)$ describes the probability of $k$ events occurring within the observed interval $\\lambda$.\n",
    "\n",
    "The rate of cosmic rays reaching us falls off rapidly as the cosmic ray energy increases. If we only consider the more energetic cosmic rays (>1 GeV) the number of cosmic rays striking the Earth's atmosphere is a rate of 10,000 events/m$^2$/s. "
   ]
  },
  {
   "cell_type": "code",
   "execution_count": null,
   "id": "232d5d78",
   "metadata": {},
   "outputs": [],
   "source": [
    "# Configure CosmiX simulator to include cosmic rays (uses Gaia/PLATO L2 event model)\n",
    "pipeline.photon_generation.cosmix.enabled = True\n",
    "pipeline.photon_generation.cosmix.arguments.spectrum_file = '../../inputfiles/proton_L2_solarMax_11mm_Shielding.txt'\n",
    "\n",
    "# Random number generator and seed\n",
    "rng = np.random.default_rng()\n",
    "pipeline.photon_generation.cosmix.arguments.seed = rng.integers(1e9, size=1)[0]\n",
    "\n",
    "# Draw cosmic rays from Poisson distribution\n",
    "ncosmics = rng.poisson(100)\n",
    "rate     = ncosmics / 300    # Cosmics per 300 seconds\n",
    "pipeline.photon_generation.cosmix.arguments.particles_per_second = rate\n",
    "\n",
    "rate"
   ]
  },
  {
   "cell_type": "code",
   "execution_count": null,
   "id": "0b28c508",
   "metadata": {},
   "outputs": [],
   "source": [
    "# Load a bias image\n",
    "pipeline.charge_generation.load_charge.arguments.filename = 'bias_slow.fits'\n",
    "pipeline.charge_generation.load_charge.arguments.time_scale = 900\n",
    "exposure.readout.times = [900]\n",
    "\n",
    "# Run simulations and plot (select Array = \"image\")\n",
    "results = pyxel.exposure_mode(exposure, detector, pipeline)\n",
    "pyxel.display_detector(detector)"
   ]
  },
  {
   "cell_type": "markdown",
   "id": "f7d8a4f8",
   "metadata": {},
   "source": [
    "___"
   ]
  },
  {
   "cell_type": "markdown",
   "id": "139effc5",
   "metadata": {},
   "source": [
    "## Configure YAML inputfile attributes\n",
    "\n",
    "If you ever need to reconfigure or alter some attributes of Pyxel, the following configuration displays can be useful:"
   ]
  },
  {
   "cell_type": "code",
   "execution_count": null,
   "id": "bc9b84c0",
   "metadata": {},
   "outputs": [],
   "source": [
    "pyxel.display_html(config)"
   ]
  },
  {
   "cell_type": "code",
   "execution_count": null,
   "id": "6094e9e0",
   "metadata": {},
   "outputs": [],
   "source": [
    "pyxel.display_html(detector)"
   ]
  },
  {
   "cell_type": "code",
   "execution_count": null,
   "id": "26ff8071",
   "metadata": {},
   "outputs": [],
   "source": [
    "pyxel.display_html(pipeline)"
   ]
  },
  {
   "cell_type": "code",
   "execution_count": null,
   "id": "6c703da6",
   "metadata": {},
   "outputs": [],
   "source": [
    "pyxel.display_html(pipeline.charge_transfer)"
   ]
  },
  {
   "cell_type": "code",
   "execution_count": null,
   "id": "c2baaf26",
   "metadata": {},
   "outputs": [],
   "source": [
    "exposure.readout"
   ]
  }
 ],
 "metadata": {
  "kernelspec": {
   "display_name": "Python 3 (ipykernel)",
   "language": "python",
   "name": "python3"
  },
  "language_info": {
   "codemirror_mode": {
    "name": "ipython",
    "version": 3
   },
   "file_extension": ".py",
   "mimetype": "text/x-python",
   "name": "python",
   "nbconvert_exporter": "python",
   "pygments_lexer": "ipython3",
   "version": "3.9.0"
  }
 },
 "nbformat": 4,
 "nbformat_minor": 5
}
